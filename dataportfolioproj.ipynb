{
 "cells": [
  {
   "cell_type": "code",
   "execution_count": 2,
   "id": "00e4a393-3e11-45bc-a7ce-c4c38edf7999",
   "metadata": {},
   "outputs": [],
   "source": [
    "from bs4 import BeautifulSoup"
   ]
  },
  {
   "cell_type": "code",
   "execution_count": 6,
   "id": "8c56b0c7-2d10-4896-8571-941a3aca4c52",
   "metadata": {},
   "outputs": [
    {
     "name": "stdout",
     "output_type": "stream",
     "text": [
      "<html>\n",
      " <head>\n",
      "  <title>\n",
      "   Your Title Here\n",
      "  </title>\n",
      " </head>\n",
      " <body bgcolor=\"FFFFFF\">\n",
      "  <center>\n",
      "   <img align=\"BOTTOM\" src=\"clouds.jpg\"/>\n",
      "  </center>\n",
      "  <hr/>\n",
      "  <a href=\"http://somegreatsite.com\">\n",
      "   Link Name\n",
      "  </a>\n",
      "  is a link to another nifty site\n",
      "  <h1>\n",
      "   This is a Header\n",
      "  </h1>\n",
      "  <h2>\n",
      "   This is a Medium Header\n",
      "  </h2>\n",
      "  Send me mail at\n",
      "  <a href=\"mailto:support@yourcompany.com\">\n",
      "   support@yourcompany.com\n",
      "  </a>\n",
      "  .\n",
      "  <p>\n",
      "   This is a new paragraph!\n",
      "   <p>\n",
      "    <b color=\"red\">\n",
      "     This is a new paragraph!\n",
      "    </b>\n",
      "    <br/>\n",
      "    <b>\n",
      "     <i>\n",
      "      This is a new sentence without a paragraph break, in bold italics.\n",
      "     </i>\n",
      "    </b>\n",
      "    <hr/>\n",
      "   </p>\n",
      "  </p>\n",
      " </body>\n",
      "</html>\n",
      "\n"
     ]
    }
   ],
   "source": [
    "with open('index.html', 'r') as f:\n",
    "    doc = BeautifulSoup(f, 'html.parser')\n",
    "\n",
    "print(doc.prettify())"
   ]
  },
  {
   "cell_type": "code",
   "execution_count": 9,
   "id": "e6270e6a-c941-49bc-ae74-f7fbb0ba629d",
   "metadata": {},
   "outputs": [
    {
     "name": "stdout",
     "output_type": "stream",
     "text": [
      "Your Title Here\n"
     ]
    }
   ],
   "source": [
    "tag = doc.title\n",
    "print(tag.string)"
   ]
  },
  {
   "cell_type": "code",
   "execution_count": null,
   "id": "a57cabb6-39bb-4861-9ae8-b97899cdafda",
   "metadata": {},
   "outputs": [],
   "source": []
  }
 ],
 "metadata": {
  "kernelspec": {
   "display_name": "Python 3 (ipykernel)",
   "language": "python",
   "name": "python3"
  },
  "language_info": {
   "codemirror_mode": {
    "name": "ipython",
    "version": 3
   },
   "file_extension": ".py",
   "mimetype": "text/x-python",
   "name": "python",
   "nbconvert_exporter": "python",
   "pygments_lexer": "ipython3",
   "version": "3.12.5"
  }
 },
 "nbformat": 4,
 "nbformat_minor": 5
}
