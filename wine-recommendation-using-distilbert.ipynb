{
 "cells": [
  {
   "cell_type": "code",
   "execution_count": 2,
   "metadata": {
    "_cell_guid": "fd02d6f9-38e8-4085-8cde-0dfe7037d653",
    "_uuid": "bee9bafc-5e9e-4c7d-b836-39f63bb58ec1"
   },
   "outputs": [],
   "source": [
    "!pip install jovian -q"
   ]
  },
  {
   "cell_type": "code",
   "execution_count": 3,
   "metadata": {
    "_cell_guid": "b06d126b-9bb4-4065-bf8e-e16f71bad9ee",
    "_uuid": "d1661b5a-bf44-42ca-aa41-168dd23942c8"
   },
   "outputs": [
    {
     "data": {
      "application/javascript": [
       "if (window.IPython && IPython.notebook.kernel) IPython.notebook.kernel.execute('jovian.utils.jupyter.get_notebook_name_saved = lambda: \"' + IPython.notebook.notebook_name + '\"')"
      ],
      "text/plain": [
       "<IPython.core.display.Javascript object>"
      ]
     },
     "metadata": {},
     "output_type": "display_data"
    }
   ],
   "source": [
    "import jovian"
   ]
  },
  {
   "cell_type": "code",
   "execution_count": 1,
   "metadata": {
    "_cell_guid": "07a56e6d-4baa-44f4-b2ec-0ab65901cb0d",
    "_uuid": "6d1a3a06-569c-4c94-b785-91e180d0402a",
    "id": "0cTx90APgtMB",
    "outputId": "0271464f-1530-4eab-c683-05185bdcbb7c"
   },
   "outputs": [
    {
     "ename": "SystemError",
     "evalue": "GPU device not found",
     "output_type": "error",
     "traceback": [
      "\u001b[0;31m---------------------------------------------------------------------------\u001b[0m",
      "\u001b[0;31mSystemError\u001b[0m                               Traceback (most recent call last)",
      "Cell \u001b[0;32mIn[1], line 8\u001b[0m\n\u001b[1;32m      6\u001b[0m   \u001b[38;5;28mprint\u001b[39m(\u001b[38;5;124mf\u001b[39m\u001b[38;5;124m'\u001b[39m\u001b[38;5;124mFound gpu as \u001b[39m\u001b[38;5;132;01m{\u001b[39;00mdevice_name\u001b[38;5;132;01m}\u001b[39;00m\u001b[38;5;124m'\u001b[39m)\n\u001b[1;32m      7\u001b[0m \u001b[38;5;28;01melse\u001b[39;00m:\n\u001b[0;32m----> 8\u001b[0m   \u001b[38;5;28;01mraise\u001b[39;00m \u001b[38;5;167;01mSystemError\u001b[39;00m(\u001b[38;5;124m'\u001b[39m\u001b[38;5;124mGPU device not found\u001b[39m\u001b[38;5;124m'\u001b[39m)\n",
      "\u001b[0;31mSystemError\u001b[0m: GPU device not found"
     ]
    }
   ],
   "source": [
    "import tensorflow as tf\n",
    "# get device name\n",
    "device_name = tf.test.gpu_device_name()\n",
    "\n",
    "if device_name == '/device:GPU:0':\n",
    "  print(f'Found gpu as {device_name}')\n",
    "else:\n",
    "  raise SystemError('GPU device not found')"
   ]
  },
  {
   "cell_type": "code",
   "execution_count": 4,
   "metadata": {
    "_cell_guid": "474543b3-5ada-4e84-a00e-0e03be776a7e",
    "_uuid": "6eb0b157-bb15-4380-9716-5a7c1d011f0a",
    "id": "zbfqEEUWg5w6",
    "outputId": "a7021444-fc2d-4a05-ab57-40437301d78b"
   },
   "outputs": [
    {
     "name": "stdout",
     "output_type": "stream",
     "text": [
      "Np GPU available. Using CPU instead.\n"
     ]
    }
   ],
   "source": [
    "import torch\n",
    "\n",
    "# check if gpu available \n",
    "if torch.cuda.is_available():\n",
    "  # set pytorch to use gpu\n",
    "  device = torch.device(\"cuda\")\n",
    "  print(f\" There are {torch.cuda.device_count()} GPU(s) available. We will use GPU {torch.cuda.get_device_name(0)}.\" )\n",
    "else:\n",
    "  print(\"No GPU available. Using CPU instead.\")\n",
    "  device = torch.device('cpu')"
   ]
  },
  {
   "cell_type": "code",
   "execution_count": 6,
   "metadata": {
    "_cell_guid": "e9db447f-ec51-4488-a0a6-d655a325e300",
    "_uuid": "ffc717c5-5b43-4c0c-9f41-8b1228ce8dd4",
    "id": "wxKU5UUOjctY",
    "outputId": "fcf900ca-a5be-4a0e-becc-59ae2434c931"
   },
   "outputs": [],
   "source": [
    "# installing huggingface transformer library\n",
    "!pip install transformers -q"
   ]
  },
  {
   "cell_type": "markdown",
   "metadata": {
    "_cell_guid": "5fa4997b-d828-4200-a16a-e0a455a9b846",
    "_uuid": "7c10070c-d465-4db0-8ba2-b7fe19bf641b",
    "id": "GH2kGe4WjyV_"
   },
   "source": [
    "## Download wine reviews data from kaggle"
   ]
  },
  {
   "cell_type": "code",
   "execution_count": 9,
   "metadata": {
    "_cell_guid": "2a9f90a3-30f6-4ad0-ae41-2c1099f4449e",
    "_uuid": "2d679536-5285-47ad-9ea8-d57323c26d69",
    "id": "6FR0PJIsjmyj",
    "outputId": "32fe402f-ad01-4aff-90a5-8edb1c2ee9bd"
   },
   "outputs": [
    {
     "data": {
      "text/html": [
       "<div>\n",
       "<style scoped>\n",
       "    .dataframe tbody tr th:only-of-type {\n",
       "        vertical-align: middle;\n",
       "    }\n",
       "\n",
       "    .dataframe tbody tr th {\n",
       "        vertical-align: top;\n",
       "    }\n",
       "\n",
       "    .dataframe thead th {\n",
       "        text-align: right;\n",
       "    }\n",
       "</style>\n",
       "<table border=\"1\" class=\"dataframe\">\n",
       "  <thead>\n",
       "    <tr style=\"text-align: right;\">\n",
       "      <th></th>\n",
       "      <th>Unnamed: 0</th>\n",
       "      <th>country</th>\n",
       "      <th>description</th>\n",
       "      <th>designation</th>\n",
       "      <th>points</th>\n",
       "      <th>price</th>\n",
       "      <th>province</th>\n",
       "      <th>region_1</th>\n",
       "      <th>region_2</th>\n",
       "      <th>taster_name</th>\n",
       "      <th>taster_twitter_handle</th>\n",
       "      <th>title</th>\n",
       "      <th>variety</th>\n",
       "      <th>winery</th>\n",
       "    </tr>\n",
       "  </thead>\n",
       "  <tbody>\n",
       "    <tr>\n",
       "      <th>0</th>\n",
       "      <td>0</td>\n",
       "      <td>Italy</td>\n",
       "      <td>Aromas include tropical fruit, broom, brimston...</td>\n",
       "      <td>Vulkà Bianco</td>\n",
       "      <td>87</td>\n",
       "      <td>NaN</td>\n",
       "      <td>Sicily &amp; Sardinia</td>\n",
       "      <td>Etna</td>\n",
       "      <td>NaN</td>\n",
       "      <td>Kerin O’Keefe</td>\n",
       "      <td>@kerinokeefe</td>\n",
       "      <td>Nicosia 2013 Vulkà Bianco  (Etna)</td>\n",
       "      <td>White Blend</td>\n",
       "      <td>Nicosia</td>\n",
       "    </tr>\n",
       "    <tr>\n",
       "      <th>1</th>\n",
       "      <td>1</td>\n",
       "      <td>Portugal</td>\n",
       "      <td>This is ripe and fruity, a wine that is smooth...</td>\n",
       "      <td>Avidagos</td>\n",
       "      <td>87</td>\n",
       "      <td>15.0</td>\n",
       "      <td>Douro</td>\n",
       "      <td>NaN</td>\n",
       "      <td>NaN</td>\n",
       "      <td>Roger Voss</td>\n",
       "      <td>@vossroger</td>\n",
       "      <td>Quinta dos Avidagos 2011 Avidagos Red (Douro)</td>\n",
       "      <td>Portuguese Red</td>\n",
       "      <td>Quinta dos Avidagos</td>\n",
       "    </tr>\n",
       "    <tr>\n",
       "      <th>2</th>\n",
       "      <td>2</td>\n",
       "      <td>US</td>\n",
       "      <td>Tart and snappy, the flavors of lime flesh and...</td>\n",
       "      <td>NaN</td>\n",
       "      <td>87</td>\n",
       "      <td>14.0</td>\n",
       "      <td>Oregon</td>\n",
       "      <td>Willamette Valley</td>\n",
       "      <td>Willamette Valley</td>\n",
       "      <td>Paul Gregutt</td>\n",
       "      <td>@paulgwine</td>\n",
       "      <td>Rainstorm 2013 Pinot Gris (Willamette Valley)</td>\n",
       "      <td>Pinot Gris</td>\n",
       "      <td>Rainstorm</td>\n",
       "    </tr>\n",
       "    <tr>\n",
       "      <th>3</th>\n",
       "      <td>3</td>\n",
       "      <td>US</td>\n",
       "      <td>Pineapple rind, lemon pith and orange blossom ...</td>\n",
       "      <td>Reserve Late Harvest</td>\n",
       "      <td>87</td>\n",
       "      <td>13.0</td>\n",
       "      <td>Michigan</td>\n",
       "      <td>Lake Michigan Shore</td>\n",
       "      <td>NaN</td>\n",
       "      <td>Alexander Peartree</td>\n",
       "      <td>NaN</td>\n",
       "      <td>St. Julian 2013 Reserve Late Harvest Riesling ...</td>\n",
       "      <td>Riesling</td>\n",
       "      <td>St. Julian</td>\n",
       "    </tr>\n",
       "    <tr>\n",
       "      <th>4</th>\n",
       "      <td>4</td>\n",
       "      <td>US</td>\n",
       "      <td>Much like the regular bottling from 2012, this...</td>\n",
       "      <td>Vintner's Reserve Wild Child Block</td>\n",
       "      <td>87</td>\n",
       "      <td>65.0</td>\n",
       "      <td>Oregon</td>\n",
       "      <td>Willamette Valley</td>\n",
       "      <td>Willamette Valley</td>\n",
       "      <td>Paul Gregutt</td>\n",
       "      <td>@paulgwine</td>\n",
       "      <td>Sweet Cheeks 2012 Vintner's Reserve Wild Child...</td>\n",
       "      <td>Pinot Noir</td>\n",
       "      <td>Sweet Cheeks</td>\n",
       "    </tr>\n",
       "  </tbody>\n",
       "</table>\n",
       "</div>"
      ],
      "text/plain": [
       "   Unnamed: 0   country                                        description  \\\n",
       "0           0     Italy  Aromas include tropical fruit, broom, brimston...   \n",
       "1           1  Portugal  This is ripe and fruity, a wine that is smooth...   \n",
       "2           2        US  Tart and snappy, the flavors of lime flesh and...   \n",
       "3           3        US  Pineapple rind, lemon pith and orange blossom ...   \n",
       "4           4        US  Much like the regular bottling from 2012, this...   \n",
       "\n",
       "                          designation  points  price           province  \\\n",
       "0                        Vulkà Bianco      87    NaN  Sicily & Sardinia   \n",
       "1                            Avidagos      87   15.0              Douro   \n",
       "2                                 NaN      87   14.0             Oregon   \n",
       "3                Reserve Late Harvest      87   13.0           Michigan   \n",
       "4  Vintner's Reserve Wild Child Block      87   65.0             Oregon   \n",
       "\n",
       "              region_1           region_2         taster_name  \\\n",
       "0                 Etna                NaN       Kerin O’Keefe   \n",
       "1                  NaN                NaN          Roger Voss   \n",
       "2    Willamette Valley  Willamette Valley        Paul Gregutt   \n",
       "3  Lake Michigan Shore                NaN  Alexander Peartree   \n",
       "4    Willamette Valley  Willamette Valley        Paul Gregutt   \n",
       "\n",
       "  taster_twitter_handle                                              title  \\\n",
       "0          @kerinokeefe                  Nicosia 2013 Vulkà Bianco  (Etna)   \n",
       "1            @vossroger      Quinta dos Avidagos 2011 Avidagos Red (Douro)   \n",
       "2           @paulgwine       Rainstorm 2013 Pinot Gris (Willamette Valley)   \n",
       "3                   NaN  St. Julian 2013 Reserve Late Harvest Riesling ...   \n",
       "4           @paulgwine   Sweet Cheeks 2012 Vintner's Reserve Wild Child...   \n",
       "\n",
       "          variety               winery  \n",
       "0     White Blend              Nicosia  \n",
       "1  Portuguese Red  Quinta dos Avidagos  \n",
       "2      Pinot Gris            Rainstorm  \n",
       "3        Riesling           St. Julian  \n",
       "4      Pinot Noir         Sweet Cheeks  "
      ]
     },
     "execution_count": 9,
     "metadata": {},
     "output_type": "execute_result"
    }
   ],
   "source": [
    "import pandas as pd\n",
    "df = pd.read_csv('winemag-data-130k-v2.csv')\n",
    "df.head()"
   ]
  },
  {
   "cell_type": "code",
   "execution_count": 36,
   "metadata": {},
   "outputs": [
    {
     "data": {
      "text/plain": [
       "'Soft, supple plum envelopes an oaky structure in this Cabernet, supported by 15% Merlot. Coffee and chocolate complete the picture, finishing strong at the end, resulting in a value-priced wine of attractive flavor and immediate accessibility.'"
      ]
     },
     "execution_count": 36,
     "metadata": {},
     "output_type": "execute_result"
    }
   ],
   "source": [
    "df['description'][10]"
   ]
  },
  {
   "cell_type": "code",
   "execution_count": 37,
   "metadata": {
    "_cell_guid": "694fe440-5109-48dd-a27b-dfb0e7564835",
    "_uuid": "06241b4f-c103-4da4-8de7-0c003780c3af",
    "id": "tQKVQxNQF9rc"
   },
   "outputs": [],
   "source": [
    "df['points'] = df['points'] - 80 # setting points from 0 to 21"
   ]
  },
  {
   "cell_type": "code",
   "execution_count": 38,
   "metadata": {
    "_cell_guid": "072d87e2-5817-4cbb-86f0-28cbc9a88b2f",
    "_uuid": "6de2b444-8bb8-461b-846a-f2c4ba173a9b",
    "id": "V0pWSGzzk1s0"
   },
   "outputs": [],
   "source": [
    "train_df = df[['description','title', 'points']]"
   ]
  },
  {
   "cell_type": "code",
   "execution_count": 39,
   "metadata": {
    "_cell_guid": "ca90e4f3-1acc-443d-bb97-59d958e3c9bd",
    "_uuid": "fb3d523c-1061-4f2f-8c41-4dee620c00f4",
    "id": "02XITdfglVsu",
    "outputId": "ed7437a5-d6f4-451a-cc64-0dfeee5cb310"
   },
   "outputs": [
    {
     "name": "stdout",
     "output_type": "stream",
     "text": [
      "Load DistilBERT tokenizer...\n"
     ]
    }
   ],
   "source": [
    "from transformers import DistilBertTokenizer, DistilBertForSequenceClassification\n",
    "\n",
    "# Load bert tokenizer\n",
    "print('Load DistilBERT tokenizer...')\n",
    "tokenizer = DistilBertTokenizer.from_pretrained('distilbert-base-uncased',do_lower_case = True)"
   ]
  },
  {
   "cell_type": "code",
   "execution_count": 40,
   "metadata": {
    "_cell_guid": "a8a8d984-1141-4f3d-8ae8-ae483af3670e",
    "_uuid": "9f4fe702-808d-4324-8b10-eebe8bc1aadb",
    "id": "ifoX6N1cl_b3",
    "outputId": "8d330a65-384a-4e85-fa5c-77c2884d1bcd"
   },
   "outputs": [
    {
     "name": "stdout",
     "output_type": "stream",
     "text": [
      "First description contains 39 wordpiece tokens.\n"
     ]
    }
   ],
   "source": [
    "# Let us take a look at the first description and tokenize it\n",
    "text = train_df.iloc[0].description\n",
    "# Run tokenizer and count number of tokens\n",
    "tokens = tokenizer.tokenize(text)\n",
    "print(f'First description contains {len(tokens)} wordpiece tokens.')"
   ]
  },
  {
   "cell_type": "markdown",
   "metadata": {
    "_cell_guid": "c070eee1-073a-4ff8-aba8-858a212167b2",
    "_uuid": "a35fee3c-f816-491b-a819-8f0bf3ad6fdc",
    "id": "iRJJVy3KnQc0"
   },
   "source": [
    "### Let us now analyze how the description length is distributed"
   ]
  },
  {
   "cell_type": "code",
   "execution_count": 41,
   "metadata": {
    "_cell_guid": "ac78b33e-9d99-4d9a-875a-a69c71afa75a",
    "_uuid": "fdf66dc3-494e-4114-898c-30c0e175a380",
    "id": "msPNdsdvm08X",
    "outputId": "ac4ab7bc-5c66-4639-8c96-8f9213d44286"
   },
   "outputs": [
    {
     "name": "stdout",
     "output_type": "stream",
     "text": [
      "Completed reading 30000 lines.\n",
      "Completed reading 60000 lines.\n",
      "Completed reading 90000 lines.\n",
      "Completed reading 120000 lines.\n",
      "Done\n"
     ]
    }
   ],
   "source": [
    "import numpy as np\n",
    "#tokenize all the descriptions and map tokens to their word IDs\n",
    "\n",
    "input_ids = []\n",
    "\n",
    "# Record length of each sequence (truncate to 512 -> BERT limit of for input sequence)\n",
    "lengths = []\n",
    "\n",
    "for des in train_df.description:\n",
    "  if (len(input_ids) % 30000 == 0) and len(input_ids)!=0:\n",
    "    print(f'Completed reading {len(input_ids)} lines.')\n",
    "\n",
    "  # tokenizer.enode does\n",
    "    # Tokenize\n",
    "    # Prepend [CLS] token\n",
    "    # Append [SEP] token\n",
    "    # Map token to their IDs\n",
    "\n",
    "  encoded_sent = tokenizer.encode(\n",
    "      des, # description\n",
    "      add_special_tokens = True, #add [CLS] and [SEP]\n",
    "\n",
    "  )\n",
    "  # add encoded text to list\n",
    "  input_ids.append(encoded_sent)\n",
    "  # record the truncated length\n",
    "  lengths.append(len(encoded_sent))\n",
    "\n",
    "print('Done')"
   ]
  },
  {
   "cell_type": "code",
   "execution_count": 42,
   "metadata": {
    "_cell_guid": "40d80390-44c6-4887-86e4-dc0589b2b9be",
    "_uuid": "7920be8a-88fa-407d-9e3d-efb67607061f",
    "id": "-MkbTX5Ip8F1"
   },
   "outputs": [],
   "source": [
    "# Get labels from train_df \n",
    "labels = train_df.points.to_numpy().astype(int)"
   ]
  },
  {
   "cell_type": "code",
   "execution_count": 43,
   "metadata": {
    "_cell_guid": "93b5e6f4-74da-4cb5-b188-39e53866f7f0",
    "_uuid": "2eec80af-3690-475d-bd99-02f3ef37aef2",
    "id": "jOLuw1h9qZ4U",
    "outputId": "6c936bcb-0a61-4cfb-dea9-9d1df599d1a2"
   },
   "outputs": [
    {
     "name": "stdout",
     "output_type": "stream",
     "text": [
      "Minimum length of tokens is 7.\n",
      "Maximum length of tokens is 194.\n",
      "Median length of tokens is 57.0.\n"
     ]
    }
   ],
   "source": [
    "print(f'Minimum length of tokens is {min(lengths)}.')\n",
    "print(f'Maximum length of tokens is {max(lengths)}.')\n",
    "print(f'Median length of tokens is {np.median(lengths)}.')"
   ]
  },
  {
   "cell_type": "markdown",
   "metadata": {
    "_cell_guid": "b79a12e9-477b-46f5-88a9-a25ad7369c2b",
    "_uuid": "da47907b-18d6-4264-bd83-2c2ed18ee69a",
    "id": "j5Gd7_DDq3BM"
   },
   "source": [
    "### Lets plot this distribution using matplotlib"
   ]
  },
  {
   "cell_type": "code",
   "execution_count": 44,
   "metadata": {
    "_cell_guid": "b56f294f-a838-43a8-8c26-6e42fb043de6",
    "_uuid": "829ec6dc-ade4-42f6-ab17-1e81f82b8137",
    "id": "J-w9Fvjkqz9r"
   },
   "outputs": [],
   "source": [
    "import matplotlib.pyplot as plt \n",
    "import seaborn as sns\n",
    "sns.set(style = 'darkgrid', font_scale = 1.5)\n",
    "plt.rcParams['figure.figsize'] = (10,5)"
   ]
  },
  {
   "cell_type": "code",
   "execution_count": 45,
   "metadata": {
    "_cell_guid": "daffb4ee-dd79-4428-84c6-b155df28cda4",
    "_uuid": "2a741821-8b55-4038-b859-71f71ce72c87",
    "id": "LUoQzzD4rrVA",
    "outputId": "36adb739-1c2f-4dda-a4c0-4e95f930a660"
   },
   "outputs": [
    {
     "name": "stderr",
     "output_type": "stream",
     "text": [
      "/var/folders/yv/z1dch3dj5wx3188lknqcwcc00000gn/T/ipykernel_29563/88835753.py:1: UserWarning: \n",
      "\n",
      "`distplot` is a deprecated function and will be removed in seaborn v0.14.0.\n",
      "\n",
      "Please adapt your code to use either `displot` (a figure-level function with\n",
      "similar flexibility) or `histplot` (an axes-level function for histograms).\n",
      "\n",
      "For a guide to updating your code to use the new functions, please see\n",
      "https://gist.github.com/mwaskom/de44147ed2974457ad6372750bbe5751\n",
      "\n",
      "  sns.distplot(lengths);\n"
     ]
    },
    {
     "data": {
      "text/plain": [
       "Text(0, 0.5, '# of sentences')"
      ]
     },
     "execution_count": 45,
     "metadata": {},
     "output_type": "execute_result"
    },
    {
     "data": {
      "image/png": "[encoded data removed]",
      "text/plain": [
       "<Figure size 1000x500 with 1 Axes>"
      ]
     },
     "metadata": {},
     "output_type": "display_data"
    }
   ],
   "source": [
    "sns.distplot(lengths);\n",
    "plt.title('Description tokens distribution');\n",
    "plt.xlabel('Description token length')\n",
    "plt.ylabel('# of sentences')"
   ]
  },
  {
   "cell_type": "markdown",
   "metadata": {
    "_cell_guid": "7d1a34a6-3614-4d38-8a32-47e414e4fe7e",
    "_uuid": "9b5f9147-6a03-44d8-8f6e-845623217605",
    "id": "4FWBHE24r8xx"
   },
   "source": [
    "Lengths of all the tokens are less than 512 which is standerd limit for BERT. Hence we can use our tokens without dropping any of the data samples."
   ]
  },
  {
   "cell_type": "code",
   "execution_count": 46,
   "metadata": {
    "_cell_guid": "166210b7-d621-419a-8de4-28bfe06b9445",
    "_uuid": "d221d87f-bb1a-4180-9663-b368e37ac61c",
    "id": "0ylYk5H5rxKq",
    "outputId": "2ca4685d-7ca1-4293-fe1c-40e64aa76124"
   },
   "outputs": [
    {
     "name": "stdout",
     "output_type": "stream",
     "text": [
      "\n",
      "Padding and truncating sentences to 128 values...\n",
      "\n",
      "Padding token: [PAD], ID: 0\n",
      "Done\n"
     ]
    }
   ],
   "source": [
    "# PAD the tokens for future use\n",
    "from keras.preprocessing.sequence import pad_sequences\n",
    "# Most of sequences have token length smaller than 128\n",
    "MAX_LEN = 128\n",
    "print(f'\\nPadding and truncating sentences to {MAX_LEN} values...')\n",
    "print(f'\\nPadding token: {tokenizer.pad_token}, ID: {tokenizer.pad_token_id}')\n",
    "input_ids = pad_sequences(input_ids, maxlen=MAX_LEN, dtype='long',\n",
    "                          value=tokenizer.pad_token_id, truncating = 'post', padding = 'post')\n",
    "\n",
    "print('Done')"
   ]
  },
  {
   "cell_type": "code",
   "execution_count": 47,
   "metadata": {
    "_cell_guid": "43af92c2-bc98-46a6-8e50-ad9582971953",
    "_uuid": "790a91dd-2f9e-4a0a-97f4-7253bcf8f3b7",
    "id": "YiOmjb6ws51y"
   },
   "outputs": [],
   "source": [
    "# create attention mask\n",
    "attention_masks = []\n",
    "for sent in input_ids:\n",
    "  # if token id == 0 then its padding so set mask to 0\n",
    "  # else its a real token and hence set mask == 1\n",
    "  attn_mask = [int(token_id > 0) for token_id in sent]\n",
    "  attention_masks.append(attn_mask)"
   ]
  },
  {
   "cell_type": "markdown",
   "metadata": {
    "_cell_guid": "c6811b82-a35b-454a-afe6-bb648287ffef",
    "_uuid": "41bc0b8b-ef20-474c-9609-c494420db9c8",
    "id": "P7paH_SovFxW"
   },
   "source": [
    "### performing train and validation split for sentences and attention masks"
   ]
  },
  {
   "cell_type": "code",
   "execution_count": 48,
   "metadata": {
    "_cell_guid": "cca37024-369b-4b8f-a7ca-128136ea90b8",
    "_uuid": "c7873e27-c634-4c33-84d9-cdbf5de786b5",
    "id": "cNuYApPBv9lF"
   },
   "outputs": [],
   "source": [
    "from sklearn.model_selection import train_test_split\n",
    "train_inputs, validation_inputs, train_labels, validation_labels = train_test_split(input_ids, labels,random_state = 1234, test_size = 0.1)\n",
    "train_masks, validation_masks, _, _ = train_test_split(attention_masks, labels,random_state = 1234, test_size = 0.1)"
   ]
  },
  {
   "cell_type": "code",
   "execution_count": 49,
   "metadata": {
    "_cell_guid": "a73904c7-821c-4013-8dbd-57a80fb698da",
    "_uuid": "fbc3dc79-18bf-4fb3-993c-07eb942f2542",
    "id": "yUjfgrvuwkPT"
   },
   "outputs": [],
   "source": [
    "# converting all the numpy arrays to pytorch tensors\n",
    "train_inputs = torch.tensor(train_inputs)\n",
    "validation_inputs = torch.tensor(validation_inputs)\n",
    "\n",
    "train_labels = torch.tensor(train_labels)\n",
    "validation_labels = torch.tensor(validation_labels)\n",
    "\n",
    "train_masks = torch.tensor(train_masks)\n",
    "validation_masks = torch.tensor(validation_masks)"
   ]
  },
  {
   "cell_type": "code",
   "execution_count": 50,
   "metadata": {
    "_cell_guid": "8421c723-caba-4d79-b53a-b711d23129d6",
    "_uuid": "9781d9a6-28b8-4a44-b344-717d19e0a9ff",
    "id": "kNmut3H0xIzU"
   },
   "outputs": [],
   "source": [
    "# Using pytorch dataloader class to help with training\n",
    "from torch.utils.data import TensorDataset, DataLoader, RandomSampler, SequentialSampler\n",
    "\n",
    "batch_size = 32\n",
    "# train data loader\n",
    "train_data = TensorDataset(train_inputs, train_masks, train_labels)\n",
    "train_sampler = RandomSampler(train_data)\n",
    "train_dataloader = DataLoader(train_data, sampler = train_sampler, batch_size = batch_size)\n",
    "# test data loader\n",
    "validation_data = TensorDataset(validation_inputs, validation_masks, validation_labels)\n",
    "validation_sampler = RandomSampler(validation_data)\n",
    "validation_dataloader = DataLoader(validation_data, sampler = validation_sampler, batch_size = batch_size)"
   ]
  },
  {
   "cell_type": "code",
   "execution_count": null,
   "metadata": {},
   "outputs": [],
   "source": []
  },
  {
   "cell_type": "markdown",
   "metadata": {
    "_cell_guid": "255c1041-38fc-4447-b629-fc8f98de8a57",
    "_uuid": "4bcab9c1-489f-4ce5-97bb-3724434a57cc",
    "id": "6OSd1GJjyaVZ"
   },
   "source": [
    "## Bert fine tuning by using Bert for squence classification using huggingface library"
   ]
  },
  {
   "cell_type": "code",
   "execution_count": 51,
   "metadata": {
    "_cell_guid": "27a6c6d2-c1b1-47a5-a1f3-6e7e38c15fa1",
    "_uuid": "cc0183e6-20ad-47d6-b256-4e3cd5381adc",
    "id": "f9kAevupyWoO",
    "outputId": "24620df7-25d5-4f8a-f6fd-06c4c987b608"
   },
   "outputs": [
    {
     "data": {
      "application/vnd.jupyter.widget-view+json": {
       "model_id": "7a479db605bd4594aa72abdf60a1f5fc",
       "version_major": 2,
       "version_minor": 0
      },
      "text/plain": [
       "model.safetensors:   0%|          | 0.00/268M [00:00<?, ?B/s]"
      ]
     },
     "metadata": {},
     "output_type": "display_data"
    },
    {
     "name": "stderr",
     "output_type": "stream",
     "text": [
      "Some weights of DistilBertForSequenceClassification were not initialized from the model checkpoint at distilbert-base-uncased and are newly initialized: ['classifier.bias', 'classifier.weight', 'pre_classifier.bias', 'pre_classifier.weight']\n",
      "You should probably TRAIN this model on a down-stream task to be able to use it for predictions and inference.\n"
     ]
    },
    {
     "ename": "AssertionError",
     "evalue": "Torch not compiled with CUDA enabled",
     "output_type": "error",
     "traceback": [
      "\u001b[0;31m---------------------------------------------------------------------------\u001b[0m",
      "\u001b[0;31mAssertionError\u001b[0m                            Traceback (most recent call last)",
      "Cell \u001b[0;32mIn[51], line 9\u001b[0m\n\u001b[1;32m      1\u001b[0m \u001b[38;5;28;01mfrom\u001b[39;00m \u001b[38;5;21;01mtransformers\u001b[39;00m \u001b[38;5;28;01mimport\u001b[39;00m BertForSequenceClassification, AdamW, BertConfig\n\u001b[1;32m      3\u001b[0m model \u001b[38;5;241m=\u001b[39m DistilBertForSequenceClassification\u001b[38;5;241m.\u001b[39mfrom_pretrained(\n\u001b[1;32m      4\u001b[0m     \u001b[38;5;124m'\u001b[39m\u001b[38;5;124mdistilbert-base-uncased\u001b[39m\u001b[38;5;124m'\u001b[39m, \u001b[38;5;66;03m# use 12 layer base Distil-BERT with uncased vocab\u001b[39;00m\n\u001b[1;32m      5\u001b[0m     num_labels \u001b[38;5;241m=\u001b[39m \u001b[38;5;241m21\u001b[39m, \u001b[38;5;66;03m# Linear regression unique points\u001b[39;00m\n\u001b[1;32m      6\u001b[0m     output_attentions \u001b[38;5;241m=\u001b[39m \u001b[38;5;28;01mFalse\u001b[39;00m, \u001b[38;5;66;03m# Do not return attention weights\u001b[39;00m\n\u001b[1;32m      7\u001b[0m     output_hidden_states \u001b[38;5;241m=\u001b[39m \u001b[38;5;28;01mFalse\u001b[39;00m )\u001b[38;5;66;03m# do not retun all hidden states\u001b[39;00m\n\u001b[0;32m----> 9\u001b[0m model\u001b[38;5;241m.\u001b[39mcuda()\n",
      "File \u001b[0;32m~/miniconda3/envs/tfenv/lib/python3.12/site-packages/transformers/modeling_utils.py:2918\u001b[0m, in \u001b[0;36mPreTrainedModel.cuda\u001b[0;34m(self, *args, **kwargs)\u001b[0m\n\u001b[1;32m   2913\u001b[0m         \u001b[38;5;28;01mraise\u001b[39;00m \u001b[38;5;167;01mValueError\u001b[39;00m(\n\u001b[1;32m   2914\u001b[0m             \u001b[38;5;124m\"\u001b[39m\u001b[38;5;124mCalling `cuda()` is not supported for `4-bit` quantized models with the installed version of bitsandbytes. \u001b[39m\u001b[38;5;124m\"\u001b[39m\n\u001b[1;32m   2915\u001b[0m             \u001b[38;5;124mf\u001b[39m\u001b[38;5;124m\"\u001b[39m\u001b[38;5;124mThe current device is `\u001b[39m\u001b[38;5;132;01m{\u001b[39;00m\u001b[38;5;28mself\u001b[39m\u001b[38;5;241m.\u001b[39mdevice\u001b[38;5;132;01m}\u001b[39;00m\u001b[38;5;124m`. If you intended to move the model, please install bitsandbytes >= 0.43.2.\u001b[39m\u001b[38;5;124m\"\u001b[39m\n\u001b[1;32m   2916\u001b[0m         )\n\u001b[1;32m   2917\u001b[0m \u001b[38;5;28;01melse\u001b[39;00m:\n\u001b[0;32m-> 2918\u001b[0m     \u001b[38;5;28;01mreturn\u001b[39;00m \u001b[38;5;28msuper\u001b[39m()\u001b[38;5;241m.\u001b[39mcuda(\u001b[38;5;241m*\u001b[39margs, \u001b[38;5;241m*\u001b[39m\u001b[38;5;241m*\u001b[39mkwargs)\n",
      "File \u001b[0;32m~/miniconda3/envs/tfenv/lib/python3.12/site-packages/torch/nn/modules/module.py:916\u001b[0m, in \u001b[0;36mModule.cuda\u001b[0;34m(self, device)\u001b[0m\n\u001b[1;32m    899\u001b[0m \u001b[38;5;28;01mdef\u001b[39;00m \u001b[38;5;21mcuda\u001b[39m(\u001b[38;5;28mself\u001b[39m: T, device: Optional[Union[\u001b[38;5;28mint\u001b[39m, device]] \u001b[38;5;241m=\u001b[39m \u001b[38;5;28;01mNone\u001b[39;00m) \u001b[38;5;241m-\u001b[39m\u001b[38;5;241m>\u001b[39m T:\n\u001b[1;32m    900\u001b[0m \u001b[38;5;250m    \u001b[39m\u001b[38;5;124mr\u001b[39m\u001b[38;5;124;03m\"\"\"Move all model parameters and buffers to the GPU.\u001b[39;00m\n\u001b[1;32m    901\u001b[0m \n\u001b[1;32m    902\u001b[0m \u001b[38;5;124;03m    This also makes associated parameters and buffers different objects. So\u001b[39;00m\n\u001b[0;32m   (...)\u001b[0m\n\u001b[1;32m    914\u001b[0m \u001b[38;5;124;03m        Module: self\u001b[39;00m\n\u001b[1;32m    915\u001b[0m \u001b[38;5;124;03m    \"\"\"\u001b[39;00m\n\u001b[0;32m--> 916\u001b[0m     \u001b[38;5;28;01mreturn\u001b[39;00m \u001b[38;5;28mself\u001b[39m\u001b[38;5;241m.\u001b[39m_apply(\u001b[38;5;28;01mlambda\u001b[39;00m t: t\u001b[38;5;241m.\u001b[39mcuda(device))\n",
      "File \u001b[0;32m~/miniconda3/envs/tfenv/lib/python3.12/site-packages/torch/nn/modules/module.py:780\u001b[0m, in \u001b[0;36mModule._apply\u001b[0;34m(self, fn, recurse)\u001b[0m\n\u001b[1;32m    778\u001b[0m \u001b[38;5;28;01mif\u001b[39;00m recurse:\n\u001b[1;32m    779\u001b[0m     \u001b[38;5;28;01mfor\u001b[39;00m module \u001b[38;5;129;01min\u001b[39;00m \u001b[38;5;28mself\u001b[39m\u001b[38;5;241m.\u001b[39mchildren():\n\u001b[0;32m--> 780\u001b[0m         module\u001b[38;5;241m.\u001b[39m_apply(fn)\n\u001b[1;32m    782\u001b[0m \u001b[38;5;28;01mdef\u001b[39;00m \u001b[38;5;21mcompute_should_use_set_data\u001b[39m(tensor, tensor_applied):\n\u001b[1;32m    783\u001b[0m     \u001b[38;5;28;01mif\u001b[39;00m torch\u001b[38;5;241m.\u001b[39m_has_compatible_shallow_copy_type(tensor, tensor_applied):\n\u001b[1;32m    784\u001b[0m         \u001b[38;5;66;03m# If the new tensor has compatible tensor type as the existing tensor,\u001b[39;00m\n\u001b[1;32m    785\u001b[0m         \u001b[38;5;66;03m# the current behavior is to change the tensor in-place using `.data =`,\u001b[39;00m\n\u001b[0;32m   (...)\u001b[0m\n\u001b[1;32m    790\u001b[0m         \u001b[38;5;66;03m# global flag to let the user control whether they want the future\u001b[39;00m\n\u001b[1;32m    791\u001b[0m         \u001b[38;5;66;03m# behavior of overwriting the existing tensor or not.\u001b[39;00m\n",
      "File \u001b[0;32m~/miniconda3/envs/tfenv/lib/python3.12/site-packages/torch/nn/modules/module.py:780\u001b[0m, in \u001b[0;36mModule._apply\u001b[0;34m(self, fn, recurse)\u001b[0m\n\u001b[1;32m    778\u001b[0m \u001b[38;5;28;01mif\u001b[39;00m recurse:\n\u001b[1;32m    779\u001b[0m     \u001b[38;5;28;01mfor\u001b[39;00m module \u001b[38;5;129;01min\u001b[39;00m \u001b[38;5;28mself\u001b[39m\u001b[38;5;241m.\u001b[39mchildren():\n\u001b[0;32m--> 780\u001b[0m         module\u001b[38;5;241m.\u001b[39m_apply(fn)\n\u001b[1;32m    782\u001b[0m \u001b[38;5;28;01mdef\u001b[39;00m \u001b[38;5;21mcompute_should_use_set_data\u001b[39m(tensor, tensor_applied):\n\u001b[1;32m    783\u001b[0m     \u001b[38;5;28;01mif\u001b[39;00m torch\u001b[38;5;241m.\u001b[39m_has_compatible_shallow_copy_type(tensor, tensor_applied):\n\u001b[1;32m    784\u001b[0m         \u001b[38;5;66;03m# If the new tensor has compatible tensor type as the existing tensor,\u001b[39;00m\n\u001b[1;32m    785\u001b[0m         \u001b[38;5;66;03m# the current behavior is to change the tensor in-place using `.data =`,\u001b[39;00m\n\u001b[0;32m   (...)\u001b[0m\n\u001b[1;32m    790\u001b[0m         \u001b[38;5;66;03m# global flag to let the user control whether they want the future\u001b[39;00m\n\u001b[1;32m    791\u001b[0m         \u001b[38;5;66;03m# behavior of overwriting the existing tensor or not.\u001b[39;00m\n",
      "File \u001b[0;32m~/miniconda3/envs/tfenv/lib/python3.12/site-packages/torch/nn/modules/module.py:780\u001b[0m, in \u001b[0;36mModule._apply\u001b[0;34m(self, fn, recurse)\u001b[0m\n\u001b[1;32m    778\u001b[0m \u001b[38;5;28;01mif\u001b[39;00m recurse:\n\u001b[1;32m    779\u001b[0m     \u001b[38;5;28;01mfor\u001b[39;00m module \u001b[38;5;129;01min\u001b[39;00m \u001b[38;5;28mself\u001b[39m\u001b[38;5;241m.\u001b[39mchildren():\n\u001b[0;32m--> 780\u001b[0m         module\u001b[38;5;241m.\u001b[39m_apply(fn)\n\u001b[1;32m    782\u001b[0m \u001b[38;5;28;01mdef\u001b[39;00m \u001b[38;5;21mcompute_should_use_set_data\u001b[39m(tensor, tensor_applied):\n\u001b[1;32m    783\u001b[0m     \u001b[38;5;28;01mif\u001b[39;00m torch\u001b[38;5;241m.\u001b[39m_has_compatible_shallow_copy_type(tensor, tensor_applied):\n\u001b[1;32m    784\u001b[0m         \u001b[38;5;66;03m# If the new tensor has compatible tensor type as the existing tensor,\u001b[39;00m\n\u001b[1;32m    785\u001b[0m         \u001b[38;5;66;03m# the current behavior is to change the tensor in-place using `.data =`,\u001b[39;00m\n\u001b[0;32m   (...)\u001b[0m\n\u001b[1;32m    790\u001b[0m         \u001b[38;5;66;03m# global flag to let the user control whether they want the future\u001b[39;00m\n\u001b[1;32m    791\u001b[0m         \u001b[38;5;66;03m# behavior of overwriting the existing tensor or not.\u001b[39;00m\n",
      "File \u001b[0;32m~/miniconda3/envs/tfenv/lib/python3.12/site-packages/torch/nn/modules/module.py:805\u001b[0m, in \u001b[0;36mModule._apply\u001b[0;34m(self, fn, recurse)\u001b[0m\n\u001b[1;32m    801\u001b[0m \u001b[38;5;66;03m# Tensors stored in modules are graph leaves, and we don't want to\u001b[39;00m\n\u001b[1;32m    802\u001b[0m \u001b[38;5;66;03m# track autograd history of `param_applied`, so we have to use\u001b[39;00m\n\u001b[1;32m    803\u001b[0m \u001b[38;5;66;03m# `with torch.no_grad():`\u001b[39;00m\n\u001b[1;32m    804\u001b[0m \u001b[38;5;28;01mwith\u001b[39;00m torch\u001b[38;5;241m.\u001b[39mno_grad():\n\u001b[0;32m--> 805\u001b[0m     param_applied \u001b[38;5;241m=\u001b[39m fn(param)\n\u001b[1;32m    806\u001b[0m p_should_use_set_data \u001b[38;5;241m=\u001b[39m compute_should_use_set_data(param, param_applied)\n\u001b[1;32m    808\u001b[0m \u001b[38;5;66;03m# subclasses may have multiple child tensors so we need to use swap_tensors\u001b[39;00m\n",
      "File \u001b[0;32m~/miniconda3/envs/tfenv/lib/python3.12/site-packages/torch/nn/modules/module.py:916\u001b[0m, in \u001b[0;36mModule.cuda.<locals>.<lambda>\u001b[0;34m(t)\u001b[0m\n\u001b[1;32m    899\u001b[0m \u001b[38;5;28;01mdef\u001b[39;00m \u001b[38;5;21mcuda\u001b[39m(\u001b[38;5;28mself\u001b[39m: T, device: Optional[Union[\u001b[38;5;28mint\u001b[39m, device]] \u001b[38;5;241m=\u001b[39m \u001b[38;5;28;01mNone\u001b[39;00m) \u001b[38;5;241m-\u001b[39m\u001b[38;5;241m>\u001b[39m T:\n\u001b[1;32m    900\u001b[0m \u001b[38;5;250m    \u001b[39m\u001b[38;5;124mr\u001b[39m\u001b[38;5;124;03m\"\"\"Move all model parameters and buffers to the GPU.\u001b[39;00m\n\u001b[1;32m    901\u001b[0m \n\u001b[1;32m    902\u001b[0m \u001b[38;5;124;03m    This also makes associated parameters and buffers different objects. So\u001b[39;00m\n\u001b[0;32m   (...)\u001b[0m\n\u001b[1;32m    914\u001b[0m \u001b[38;5;124;03m        Module: self\u001b[39;00m\n\u001b[1;32m    915\u001b[0m \u001b[38;5;124;03m    \"\"\"\u001b[39;00m\n\u001b[0;32m--> 916\u001b[0m     \u001b[38;5;28;01mreturn\u001b[39;00m \u001b[38;5;28mself\u001b[39m\u001b[38;5;241m.\u001b[39m_apply(\u001b[38;5;28;01mlambda\u001b[39;00m t: t\u001b[38;5;241m.\u001b[39mcuda(device))\n",
      "File \u001b[0;32m~/miniconda3/envs/tfenv/lib/python3.12/site-packages/torch/cuda/__init__.py:305\u001b[0m, in \u001b[0;36m_lazy_init\u001b[0;34m()\u001b[0m\n\u001b[1;32m    300\u001b[0m     \u001b[38;5;28;01mraise\u001b[39;00m \u001b[38;5;167;01mRuntimeError\u001b[39;00m(\n\u001b[1;32m    301\u001b[0m         \u001b[38;5;124m\"\u001b[39m\u001b[38;5;124mCannot re-initialize CUDA in forked subprocess. To use CUDA with \u001b[39m\u001b[38;5;124m\"\u001b[39m\n\u001b[1;32m    302\u001b[0m         \u001b[38;5;124m\"\u001b[39m\u001b[38;5;124mmultiprocessing, you must use the \u001b[39m\u001b[38;5;124m'\u001b[39m\u001b[38;5;124mspawn\u001b[39m\u001b[38;5;124m'\u001b[39m\u001b[38;5;124m start method\u001b[39m\u001b[38;5;124m\"\u001b[39m\n\u001b[1;32m    303\u001b[0m     )\n\u001b[1;32m    304\u001b[0m \u001b[38;5;28;01mif\u001b[39;00m \u001b[38;5;129;01mnot\u001b[39;00m \u001b[38;5;28mhasattr\u001b[39m(torch\u001b[38;5;241m.\u001b[39m_C, \u001b[38;5;124m\"\u001b[39m\u001b[38;5;124m_cuda_getDeviceCount\u001b[39m\u001b[38;5;124m\"\u001b[39m):\n\u001b[0;32m--> 305\u001b[0m     \u001b[38;5;28;01mraise\u001b[39;00m \u001b[38;5;167;01mAssertionError\u001b[39;00m(\u001b[38;5;124m\"\u001b[39m\u001b[38;5;124mTorch not compiled with CUDA enabled\u001b[39m\u001b[38;5;124m\"\u001b[39m)\n\u001b[1;32m    306\u001b[0m \u001b[38;5;28;01mif\u001b[39;00m _cudart \u001b[38;5;129;01mis\u001b[39;00m \u001b[38;5;28;01mNone\u001b[39;00m:\n\u001b[1;32m    307\u001b[0m     \u001b[38;5;28;01mraise\u001b[39;00m \u001b[38;5;167;01mAssertionError\u001b[39;00m(\n\u001b[1;32m    308\u001b[0m         \u001b[38;5;124m\"\u001b[39m\u001b[38;5;124mlibcudart functions unavailable. It looks like you have a broken build?\u001b[39m\u001b[38;5;124m\"\u001b[39m\n\u001b[1;32m    309\u001b[0m     )\n",
      "\u001b[0;31mAssertionError\u001b[0m: Torch not compiled with CUDA enabled"
     ]
    }
   ],
   "source": [
    "from transformers import BertForSequenceClassification, AdamW, BertConfig\n",
    "\n",
    "model = DistilBertForSequenceClassification.from_pretrained(\n",
    "    'distilbert-base-uncased', # use 12 layer base Distil-BERT with uncased vocab\n",
    "    num_labels = 21, # Linear regression unique points\n",
    "    output_attentions = False, # Do not return attention weights\n",
    "    output_hidden_states = False )# do not retun all hidden states\n",
    "\n",
    "model.cuda()"
   ]
  },
  {
   "cell_type": "code",
   "execution_count": 52,
   "metadata": {
    "_cell_guid": "02b9f3ff-438b-4ce9-bca2-f293e4d438c9",
    "_uuid": "79c837b0-a73c-49f5-9f7c-e49020691ace",
    "id": "O6OCJymhzppk"
   },
   "outputs": [
    {
     "name": "stderr",
     "output_type": "stream",
     "text": [
      "/Users/khadarty/miniconda3/envs/tfenv/lib/python3.12/site-packages/transformers/optimization.py:591: FutureWarning: This implementation of AdamW is deprecated and will be removed in a future version. Use the PyTorch implementation torch.optim.AdamW instead, or set `no_deprecation_warning=True` to disable this warning\n",
      "  warnings.warn(\n"
     ]
    }
   ],
   "source": [
    "optimizer = AdamW(model.parameters(), lr = 2e-4, eps = 1e-8)"
   ]
  },
  {
   "cell_type": "code",
   "execution_count": null,
   "metadata": {
    "_cell_guid": "f8f002fb-28b7-4965-afaa-35122fc3298e",
    "_uuid": "d6015344-808e-4ccb-a7fd-1062ea786fc1",
    "id": "OYggSGUw0IBx"
   },
   "outputs": [],
   "source": [
    "from transformers import get_linear_schedule_with_warmup\n",
    "# number of training epochs\n",
    "epochs = 4\n",
    "# number of training steps\n",
    "total_steps = len(train_dataloader)* epochs\n",
    "# learning rate scheduler\n",
    "scheduler = get_linear_schedule_with_warmup(optimizer, num_warmup_steps = 0, num_training_steps = total_steps)"
   ]
  },
  {
   "cell_type": "code",
   "execution_count": null,
   "metadata": {
    "_cell_guid": "b94d3b0e-74fc-4cbc-a103-abf8cd75736e",
    "_uuid": "feff3b42-4784-4f69-9879-375e1f6cc2b1",
    "id": "zoj2NzpA0lZ-"
   },
   "outputs": [],
   "source": [
    "# helper functions \n",
    "import time\n",
    "import datetime\n",
    "def flat_accuracy(preds, labels):\n",
    "  preds_flat = np.argmax(preds, axis=1).flatten()\n",
    "  labels_flat = labels.flatten()\n",
    "  return np.sum(preds_flat == labels_flat) / len(labels_flat)\n",
    "\n",
    "def format_time(elapsed):\n",
    "  '''\n",
    "  retunr time in hh:mm:ss from seconds\n",
    "  '''\n",
    "  elapsed_round = int(round(elapsed))\n",
    "  return str(datetime.timedelta(seconds = elapsed_round))"
   ]
  },
  {
   "cell_type": "markdown",
   "metadata": {},
   "source": [
    "## Following cell takes upto 2 hr depending on dataset size and GPU variety (Do not run unless really necessary)"
   ]
  },
  {
   "cell_type": "code",
   "execution_count": null,
   "metadata": {
    "_cell_guid": "5ec42ea7-8637-4e1d-8c24-ecc9a907b1f0",
    "_uuid": "e5ec1ac3-ba5e-45fd-9424-d7c7d928f536",
    "id": "GkryG_q3ANRD",
    "outputId": "26b8534f-bac4-41f8-8714-54c45094d44f"
   },
   "outputs": [],
   "source": [
    "import random\n",
    "import numpy as np\n",
    "import os\n",
    "\n",
    "# Saving best-practices: if you use defaults names for the model, you can reload it using from_pretrained()\n",
    "\n",
    "output_dir = './model'\n",
    "\n",
    "# Create output directory if needed\n",
    "if not os.path.exists(output_dir):\n",
    "    os.makedirs(output_dir)\n",
    "\n",
    "\n",
    "# This training code is based on the `run_glue.py` script here:\n",
    "# https://github.com/huggingface/transformers/blob/5bfcd0485ece086ebcbed2d008813037968a9e58/examples/run_glue.py#L128\n",
    "\n",
    "# Set the seed value all over the place to make this reproducible.\n",
    "seed_val = 1234\n",
    "\n",
    "random.seed(seed_val)\n",
    "np.random.seed(seed_val)\n",
    "torch.manual_seed(seed_val)\n",
    "torch.cuda.manual_seed_all(seed_val)\n",
    "\n",
    "# We'll store a number of quantities such as training and validation loss, \n",
    "# validation accuracy, and timings.\n",
    "training_stats = []\n",
    "\n",
    "# Measure the total training time for the whole run.\n",
    "total_t0 = time.time()\n",
    "\n",
    "# For each epoch...\n",
    "for epoch_i in range(0, epochs):\n",
    "    \n",
    "    # ========================================\n",
    "    #               Training\n",
    "    # ========================================\n",
    "    \n",
    "    # Perform one full pass over the training set.\n",
    "\n",
    "    print(\"\")\n",
    "    print('======== Epoch {:} / {:} ========'.format(epoch_i + 1, epochs))\n",
    "    print('Training...')\n",
    "\n",
    "    # Measure how long the training epoch takes.\n",
    "    t0 = time.time()\n",
    "\n",
    "    # Reset the total loss for this epoch.\n",
    "    total_train_loss = 0\n",
    "\n",
    "    # Put the model into training mode. Don't be mislead--the call to \n",
    "    # `train` just changes the *mode*, it doesn't *perform* the training.\n",
    "    # `dropout` and `batchnorm` layers behave differently during training\n",
    "    # vs. test (source: https://stackoverflow.com/questions/51433378/what-does-model-train-do-in-pytorch)\n",
    "    model.train()\n",
    "\n",
    "    # For each batch of training data...\n",
    "    for step, batch in enumerate(train_dataloader):\n",
    "\n",
    "        # Progress update every 40 batches.\n",
    "        if step % 40 == 0 and not step == 0:\n",
    "            # Calculate elapsed time in minutes.\n",
    "            elapsed = format_time(time.time() - t0)\n",
    "            \n",
    "            # Report progress.\n",
    "            print('  Batch {:>5,}  of  {:>5,}.    Elapsed: {:}.'.format(step, len(train_dataloader), elapsed))\n",
    "\n",
    "        # Unpack this training batch from our dataloader. \n",
    "        #\n",
    "        # As we unpack the batch, we'll also copy each tensor to the GPU using the \n",
    "        # `to` method.\n",
    "        #\n",
    "        # `batch` contains three pytorch tensors:\n",
    "        #   [0]: input ids \n",
    "        #   [1]: attention masks\n",
    "        #   [2]: labels \n",
    "        b_input_ids = batch[0].to(device)\n",
    "        b_input_mask = batch[1].to(device)\n",
    "        b_labels = batch[2].to(device)\n",
    "\n",
    "        # Always clear any previously calculated gradients before performing a\n",
    "        # backward pass. PyTorch doesn't do this automatically because \n",
    "        # accumulating the gradients is \"convenient while training RNNs\". \n",
    "        # (source: https://stackoverflow.com/questions/48001598/why-do-we-need-to-call-zero-grad-in-pytorch)\n",
    "        model.zero_grad()        \n",
    "\n",
    "        # Perform a forward pass (evaluate the model on this training batch).\n",
    "        # The documentation for this `model` function is here: \n",
    "        # https://huggingface.co/transformers/v2.2.0/model_doc/bert.html#transformers.BertForSequenceClassification\n",
    "        # It returns different numbers of parameters depending on what arguments\n",
    "        # arge given and what flags are set. For our useage here, it returns\n",
    "        # the loss (because we provided labels) and the \"logits\"--the model\n",
    "        # outputs prior to activation.\n",
    "        loss, logits = model(b_input_ids,\n",
    "                           attention_mask = b_input_mask,\n",
    "                           labels = b_labels)\n",
    "#         loss, logits = output.loss, output.logits\n",
    "\n",
    "        # Accumulate the training loss over all of the batches so that we can\n",
    "        # calculate the average loss at the end. `loss` is a Tensor containing a\n",
    "        # single value; the `.item()` function just returns the Python value \n",
    "        # from the tensor.\n",
    "        total_train_loss += loss.item()\n",
    "\n",
    "        # Perform a backward pass to calculate the gradients.\n",
    "        loss.backward()\n",
    "\n",
    "        # Clip the norm of the gradients to 1.0.\n",
    "        # This is to help prevent the \"exploding gradients\" problem.\n",
    "        torch.nn.utils.clip_grad_norm_(model.parameters(), 1.0)\n",
    "\n",
    "        # Update parameters and take a step using the computed gradient.\n",
    "        # The optimizer dictates the \"update rule\"--how the parameters are\n",
    "        # modified based on their gradients, the learning rate, etc.\n",
    "        optimizer.step()\n",
    "\n",
    "        # Update the learning rate.\n",
    "        scheduler.step()\n",
    "\n",
    "    # Calculate the average loss over all of the batches.\n",
    "    avg_train_loss = total_train_loss / len(train_dataloader)            \n",
    "    \n",
    "    # Measure how long this epoch took.\n",
    "    training_time = format_time(time.time() - t0)\n",
    "\n",
    "    print(\"\")\n",
    "    print(\"  Average training loss: {0:.2f}\".format(avg_train_loss))\n",
    "    print(\"  Training epcoh took: {:}\".format(training_time))\n",
    "        \n",
    "    # ========================================\n",
    "    #               Validation\n",
    "    # ========================================\n",
    "    # After the completion of each training epoch, measure our performance on\n",
    "    # our validation set.\n",
    "\n",
    "    print(\"\")\n",
    "    print(\"Running Validation...\")\n",
    "\n",
    "    t0 = time.time()\n",
    "\n",
    "    # Put the model in evaluation mode--the dropout layers behave differently\n",
    "    # during evaluation.\n",
    "    model.eval()\n",
    "\n",
    "    # Tracking variables \n",
    "    total_eval_accuracy = 0\n",
    "    total_eval_loss = 0\n",
    "    nb_eval_steps = 0\n",
    "\n",
    "    # Evaluate data for one epoch\n",
    "    for batch in validation_dataloader:\n",
    "        \n",
    "        # Unpack this training batch from our dataloader. \n",
    "        #\n",
    "        # As we unpack the batch, we'll also copy each tensor to the GPU using \n",
    "        # the `to` method.\n",
    "        #\n",
    "        # `batch` contains three pytorch tensors:\n",
    "        #   [0]: input ids \n",
    "        #   [1]: attention masks\n",
    "        #   [2]: labels \n",
    "        b_input_ids = batch[0].to(device)\n",
    "        b_input_mask = batch[1].to(device)\n",
    "        b_labels = batch[2].to(device)\n",
    "        \n",
    "        # Tell pytorch not to bother with constructing the compute graph during\n",
    "        # the forward pass, since this is only needed for backprop (training).\n",
    "        with torch.no_grad():        \n",
    "\n",
    "            # Forward pass, calculate logit predictions.\n",
    "            # token_type_ids is the same as the \"segment ids\", which \n",
    "            # differentiates sentence 1 and 2 in 2-sentence tasks.\n",
    "            # The documentation for this `model` function is here: \n",
    "            # https://huggingface.co/transformers/v2.2.0/model_doc/bert.html#transformers.BertForSequenceClassification\n",
    "            # Get the \"logits\" output by the model. The \"logits\" are the output\n",
    "            # values prior to applying an activation function like the softmax.\n",
    "            loss, logits = model(b_input_ids,\n",
    "                           attention_mask = b_input_mask,\n",
    "                           labels = b_labels)\n",
    "#         loss, logits = output.loss, output.logits\n",
    "            \n",
    "        # Accumulate the validation loss.\n",
    "        total_eval_loss += loss.item()\n",
    "\n",
    "        # Move logits and labels to CPU\n",
    "        logits = logits.detach().cpu().numpy()\n",
    "        label_ids = b_labels.to('cpu').numpy()\n",
    "\n",
    "        # Calculate the accuracy for this batch of test sentences, and\n",
    "        # accumulate it over all batches.\n",
    "        total_eval_accuracy += flat_accuracy(logits, label_ids)\n",
    "        \n",
    "\n",
    "    # Report the final accuracy for this validation run.\n",
    "    avg_val_accuracy = total_eval_accuracy / len(validation_dataloader)\n",
    "    print(\"  Accuracy: {0:.2f}\".format(avg_val_accuracy))\n",
    "\n",
    "    # Calculate the average loss over all of the batches.\n",
    "    avg_val_loss = total_eval_loss / len(validation_dataloader)\n",
    "    \n",
    "    # Measure how long the validation run took.\n",
    "    validation_time = format_time(time.time() - t0)\n",
    "    \n",
    "    print(\"  Validation Loss: {0:.2f}\".format(avg_val_loss))\n",
    "    print(\"  Validation took: {:}\".format(validation_time))\n",
    "\n",
    "    # Record all statistics from this epoch.\n",
    "    training_stats.append(\n",
    "        {\n",
    "            'epoch': epoch_i + 1,\n",
    "            'Training Loss': avg_train_loss,\n",
    "            'Valid. Loss': avg_val_loss,\n",
    "            'Valid. Accur.': avg_val_accuracy,\n",
    "            'Training Time': training_time,\n",
    "            'Validation Time': validation_time\n",
    "        }\n",
    "    )\n",
    "\n",
    "    torch.save(model, (f\"./model/model_{epoch_i}.pth\"))\n",
    "print(\"\")\n",
    "print(\"Training complete!\")\n",
    "\n",
    "print(\"Total training took {:} (h:mm:ss)\".format(format_time(time.time()-total_t0)))"
   ]
  },
  {
   "cell_type": "code",
   "execution_count": null,
   "metadata": {
    "_cell_guid": "1c24dbb0-5350-4399-a194-e51709abde07",
    "_uuid": "1fa1589e-c28b-4d8c-8065-eced435f7514",
    "id": "QPBNMGfPIMnt"
   },
   "outputs": [],
   "source": [
    "# Display floats with two decimal places.\n",
    "pd.set_option('precision', 2)\n",
    "\n",
    "# Create a DataFrame from our training statistics.\n",
    "df_stats = pd.DataFrame(data=training_stats)\n",
    "\n",
    "# Use the 'epoch' as the row index.\n",
    "df_stats = df_stats.set_index('epoch')\n",
    "\n",
    "# A hack to force the column headers to wrap.\n",
    "#df = df.style.set_table_styles([dict(selector=\"th\",props=[('max-width', '70px')])])\n",
    "\n",
    "# Display the table.\n",
    "df_stats"
   ]
  },
  {
   "cell_type": "code",
   "execution_count": null,
   "metadata": {
    "_cell_guid": "61959d55-aefb-4656-b858-de6daa5b2c46",
    "_uuid": "44a19d53-ad3b-49a6-b675-96ff61950454",
    "id": "Y1icpJFVIdJx"
   },
   "outputs": [],
   "source": [
    "import matplotlib.pyplot as plt\n",
    "%matplotlib inline\n",
    "\n",
    "import seaborn as sns\n",
    "\n",
    "# Use plot styling from seaborn.\n",
    "sns.set(style='darkgrid')\n",
    "\n",
    "# Increase the plot size and font size.\n",
    "sns.set(font_scale=1.5)\n",
    "plt.rcParams[\"figure.figsize\"] = (12,6)\n",
    "\n",
    "# Plot the learning curve.\n",
    "plt.plot(df_stats['Training Loss'], '-', label=\"Training\")\n",
    "plt.plot(df_stats['Valid. Loss'], '--', label=\"Validation\")\n",
    "\n",
    "# Label the plot.\n",
    "plt.title(\"Training & Validation Loss\")\n",
    "plt.xlabel(\"Epoch\")\n",
    "plt.ylabel(\"Loss\")\n",
    "plt.legend()\n",
    "plt.xticks([1, 2, 3, 4])\n",
    "\n",
    "plt.show()"
   ]
  },
  {
   "cell_type": "markdown",
   "metadata": {
    "_cell_guid": "1136a2a0-370d-4404-8617-6f4448c12df6",
    "_uuid": "a08ea192-42ac-42eb-be7c-451010c3ad83",
    "id": "kVeM_fQRI5Ta"
   },
   "source": [
    "## Saving model and training arguments"
   ]
  },
  {
   "cell_type": "code",
   "execution_count": null,
   "metadata": {
    "_cell_guid": "57f57df3-9430-4299-8cdf-e0e013de0f47",
    "_uuid": "d988a5a2-a580-43cc-a8d0-0df8357ed689",
    "id": "cRmc9RYII86s"
   },
   "outputs": [],
   "source": [
    "import os\n",
    "\n",
    "# Saving best-practices: if you use defaults names for the model, you can reload it using from_pretrained()\n",
    "\n",
    "output_dir = './model'\n",
    "\n",
    "# Create output directory if needed\n",
    "if not os.path.exists(output_dir):\n",
    "    os.makedirs(output_dir)\n",
    "\n",
    "print(\"Saving model to %s\" % output_dir)\n",
    "\n",
    "# Save a trained model, configuration and tokenizer using `save_pretrained()`.\n",
    "# They can then be reloaded using `from_pretrained()`\n",
    "model_to_save = model.module if hasattr(model, 'module') else model  # Take care of distributed/parallel training\n",
    "model_to_save.save_pretrained(output_dir)\n",
    "tokenizer.save_pretrained(output_dir)\n",
    "\n",
    "# Good practice: save your training arguments together with the trained model\n",
    "torch.save(model, output_dir+\"/model.pth\")"
   ]
  },
  {
   "cell_type": "code",
   "execution_count": null,
   "metadata": {
    "_cell_guid": "d2b0ce65-4416-4ada-9147-ea1460d130f7",
    "_uuid": "540eb178-5a0d-4716-a7b0-ec9da7c6a771"
   },
   "outputs": [],
   "source": [
    "jovian.commit(artifacts = ['./model/model.pth'],project = 'semantic_similarity_wine')"
   ]
  },
  {
   "cell_type": "code",
   "execution_count": null,
   "metadata": {
    "_cell_guid": "00436090-0fd9-495e-ad55-02df36d82f4b",
    "_uuid": "ea1f8218-ed87-47b6-910e-a8570fc5c1e5"
   },
   "outputs": [],
   "source": [
    "import torch\n",
    "from keras.preprocessing.sequence import pad_sequences\n",
    "from transformers import DistilBertTokenizer, DistilBertForSequenceClassification\n",
    "import numpy as np\n",
    "# Load bert tokenizer\n",
    "print('Load DistilBERT tokenizer...')\n",
    "tokenizer = DistilBertTokenizer.from_pretrained('distilbert-base-uncased',do_lower_case = True)\n",
    "# Loading model and setting output hidden states flag to true\n",
    "print('Load DistilBERT model...')\n",
    "model = DistilBertForSequenceClassification.from_pretrained('../input/distilbertmodel-trained-wine-reviews', output_hidden_states = True)\n",
    "model.cuda()\n",
    "def text_to_embedding(tokenizer,model, input_text):\n",
    "    # Step 1 = Tokenization\n",
    "    MAX_LEN = 128 #Max token length\n",
    "    input_ids = tokenizer.encode(\n",
    "      input_text, # description\n",
    "      add_special_tokens = True, #add [CLS] and [SEP]\n",
    "        max_length = MAX_LEN,\n",
    "        truncation=True\n",
    "  )\n",
    "    result = pad_sequences([input_ids], maxlen=MAX_LEN, dtype='long',\n",
    "                          value=tokenizer.pad_token_id, truncating = 'post', padding = 'post')\n",
    "    input_ids = result[0]\n",
    "    attn_mask = [int(token_id > 0) for token_id in input_ids]\n",
    "    \n",
    "    # to tensor\n",
    "    input_ids = torch.tensor(input_ids)\n",
    "    attn_mask = torch.tensor(attn_mask)\n",
    "    \n",
    "    # Adding extra dimension for processing\n",
    "    input_ids = input_ids.unsqueeze(0)\n",
    "    attn_mask = attn_mask.unsqueeze(0)\n",
    "    \n",
    "    # to GPU\n",
    "    input_ids = input_ids.to(device)\n",
    "    attn_mask = attn_mask.to(device)\n",
    "    # step 2 evaluaring text on DistilBERT model\n",
    "    model.eval()\n",
    "    # No gradient tracking mode\n",
    "    with torch.no_grad():\n",
    "        _ , encoded_layer = model(input_ids = input_ids,attention_mask = attn_mask)\n",
    "         \n",
    "        \n",
    "    layer_i = 6 # last layer for DistilBERT\n",
    "    batch_i = 0 # Only One input in the batch\n",
    "    token_i = 0 # Get token for the [CLS] \n",
    "    # Get sentece emedding \n",
    "    vec = encoded_layer[layer_i][batch_i][token_i]\n",
    "    vec = vec.detach().cpu().numpy() # move to cpu and convert to numpy\n",
    "    norm = np.linalg.norm(vec) # for normalizing the vector\n",
    "    return vec/norm\n",
    "    \n",
    "    "
   ]
  },
  {
   "cell_type": "code",
   "execution_count": null,
   "metadata": {},
   "outputs": [],
   "source": [
    "text = train_df.iloc[0].description\n",
    "vec = text_to_embedding(tokenizer, model, text)\n",
    "print(vec.shape)"
   ]
  },
  {
   "cell_type": "markdown",
   "metadata": {},
   "source": [
    "## Following cell uses trained model and uses outputs of last hidden layer to get sentence embeddings for all the reviews (pretrained embeddings are already in data do not run unless model is trained on new data. Takes about 18 minutes)"
   ]
  },
  {
   "cell_type": "code",
   "execution_count": null,
   "metadata": {},
   "outputs": [],
   "source": [
    "# Converting all Texts to vectors\n",
    "import time\n",
    "# Setting initial time\n",
    "t0 = time.time()\n",
    "\n",
    "embeddings = []\n",
    "# Number of comments\n",
    "num_text = len(train_df.description)\n",
    "for text in train_df.description:\n",
    "    if (len(embeddings) % 2000 == 0) and len(embeddings)!=0:\n",
    "        elapsed = format_time(time.time() - t0)\n",
    "        print(f'Completed reading {len(embeddings)} lines. Took time {elapsed}.')\n",
    "        \n",
    "    vec = text_to_embedding(tokenizer, model, text)\n",
    "    embeddings.append(vec)\n",
    "    \n",
    "    "
   ]
  },
  {
   "cell_type": "code",
   "execution_count": null,
   "metadata": {},
   "outputs": [],
   "source": [
    "import numpy as np\n",
    "vecs = np.vstack(embeddings)\n",
    "print(vecs.shape)"
   ]
  },
  {
   "cell_type": "code",
   "execution_count": null,
   "metadata": {},
   "outputs": [],
   "source": [
    "import os\n",
    "\n",
    "# Saving best-practices: if you use defaults names for the model, you can reload it using from_pretrained()\n",
    "\n",
    "output_dir = './model'\n",
    "\n",
    "# Create output directory if needed\n",
    "if not os.path.exists(output_dir):\n",
    "    os.makedirs(output_dir)\n",
    "\n",
    "np.save(\"./model/Text_embeddings.npy\",vecs)"
   ]
  },
  {
   "cell_type": "code",
   "execution_count": 29,
   "metadata": {},
   "outputs": [
    {
     "name": "stdout",
     "output_type": "stream",
     "text": [
      "Description to look for - Vintage, old, red, pinot, white, cherry, fruit\n"
     ]
    }
   ],
   "source": [
    "import numpy as np\n",
    "# Loading previously saved numpy embeddings\n",
    "embeddings = np.load('../input/distilbertmodel-trained-wine-reviews/Text_embeddings.npy')\n",
    "# Enter qualities of wine that you would like to get recommendations for\n",
    "text_to_search = \"\"\"Vintage, old, red, pinot, white, cherry, fruit\"\"\"\n",
    "print(\"Description to look for -\", text_to_search)\n",
    "vec = text_to_embedding(tokenizer, model, text_to_search)\n",
    "result = np.matmul(embeddings, vec)\n",
    "top_5_row_nums = result.argsort()[-5:][::-1]"
   ]
  },
  {
   "cell_type": "code",
   "execution_count": 30,
   "metadata": {},
   "outputs": [
    {
     "name": "stdout",
     "output_type": "stream",
     "text": [
      "====== Top 5 related Wines with reviews ======\n",
      "Name -  Cedar Mountain 2009 Reserve Petite Sirah (Livermore Valley) \n",
      " \n",
      "Review -  Generous in white pepper, particularly on the nose, this Petite has tight, puckering tannins pleading for more time in the bottle. Soft flavors lean to the leathery blackberry and licorice side of things. \n",
      "\n",
      "Name -  Novy 2013 Four Mile Creek White (North Coast) \n",
      " \n",
      "Review -  Full in flavor and body, this sturdy wine based on Viognier, Sauvignon Blanc and Pinot Gris with a dash of Chardonnay has crisp acidity to keep it lively. It smells like pears and honeydew melon and tastes dry but generous and a little buttery, and finishes clean. \n",
      "\n",
      "Name -  Zepaltas 2008 Nunes Vineyard Pinot Noir (Russian River Valley) \n",
      " \n",
      "Review -  Sharp and candied, with Lifesaver sweet-and-sour cherries and cola softened with smoky wood notes. The tannins are sandpapery and firm. Drink now with rich beef and lamb. \n",
      "\n",
      "Name -  Château du Carrubier 2014 Red (Côtes de Provence) \n",
      " \n",
      "Review -  This firm and tannic wine is more structure than fruit. It is dense with a dry core. The acidity suggests that there may be some fruit there, although the rest of the wine is ready to drink. \n",
      "\n",
      "Name -  Samuel Robert 2016 Perrydale Hills Vineyard Pinot Noir Rosé (Willamette Valley) \n",
      " \n",
      "Review -  Produced from bled-off Pinot Noir juice, this is a robust, high alcohol rosé. It was put through partial malolactic fermentation and offers candy strawberry flavors up front, without much depth. \n",
      "\n"
     ]
    }
   ],
   "source": [
    "print(\"====== Top 5 related Wines with reviews ======\")\n",
    "for row in top_5_row_nums:\n",
    "    print('Name - ', df.iloc[row].title,'\\n', '')\n",
    "    print('Review - ' , train_df.iloc[row].description,'\\n')\n",
    "    "
   ]
  },
  {
   "cell_type": "code",
   "execution_count": null,
   "metadata": {},
   "outputs": [],
   "source": []
  }
 ],
 "metadata": {
  "kernelspec": {
   "display_name": "Python 3 (ipykernel)",
   "language": "python",
   "name": "python3"
  },
  "language_info": {
   "codemirror_mode": {
    "name": "ipython",
    "version": 3
   },
   "file_extension": ".py",
   "mimetype": "text/x-python",
   "name": "python",
   "nbconvert_exporter": "python",
   "pygments_lexer": "ipython3",
   "version": "3.10.13"
  }
 },
 "nbformat": 4,
 "nbformat_minor": 4
}
